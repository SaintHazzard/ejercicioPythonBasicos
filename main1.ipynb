{
 "cells": [
  {
   "cell_type": "code",
   "execution_count": 1,
   "metadata": {},
   "outputs": [
    {
     "name": "stdout",
     "output_type": "stream",
     "text": [
      "¿Qué producto desea? \n",
      "1. Producto A\n",
      "2. Producto B\n",
      "3. Producto C\n"
     ]
    }
   ],
   "source": [
    "def menu(productos):\n",
    "    print('¿Qué producto desea? ')\n",
    "    for i in range(1, 4):\n",
    "        print(f'{i}. {productos[i-1][0]}')\n",
    "    elecproducto = int(input())\n",
    "    return int(productos[elecproducto-1][1])\n",
    "\n",
    "def generar_vuelto(vuelto, monedas):\n",
    "    vueltos = [0, 0, 0]\n",
    "    vueltos[2] = vuelto // 100\n",
    "    vuelto = vuelto % 100\n",
    "    vueltos[1] = vuelto // 50\n",
    "    vuelto = vuelto % 50\n",
    "    vueltos[0] = vuelto // 10\n",
    "    print('Su vuelto es: ')\n",
    "    for i in range(2, -1, -1):\n",
    "        for j in range(vueltos[i]):\n",
    "            print(monedas[i])\n",
    "    \n",
    "def maquina_alimentos():\n",
    "    productos = [['Producto A', '270'], ['Producto B', '340'], ['Producto C', '390']]\n",
    "    monedas = [10, 50, 100]\n",
    "    prod_elect = menu(productos)\n",
    "    \n",
    "    pago = False\n",
    "    total_pago = 0\n",
    "  \n",
    "    while not pago:\n",
    "        print('Inserte las moneda: ')\n",
    "        print('1. Moneda de 10$')\n",
    "        print('2. Moneda de 50$')\n",
    "        print('3. Moneda de 100$')\n",
    "        elec_moneda = int(input())\n",
    "        total_pago += monedas[elec_moneda - 1]\n",
    "        print('Su pago actual es de: ', total_pago)\n",
    "        input('Presione Enter para continuar...')\n",
    "        \n",
    "        if total_pago >= prod_elect:\n",
    "            print('Pago completo')\n",
    "            pago = True\n",
    "            vuelto = total_pago - prod_elect\n",
    "    \n",
    "    generar_vuelto(vuelto, monedas)\n",
    "\n",
    "maquina_alimentos()"
   ]
  }
 ],
 "metadata": {
  "kernelspec": {
   "display_name": "Python 3",
   "language": "python",
   "name": "python3"
  },
  "language_info": {
   "codemirror_mode": {
    "name": "ipython",
    "version": 3
   },
   "file_extension": ".py",
   "mimetype": "text/x-python",
   "name": "python",
   "nbconvert_exporter": "python",
   "pygments_lexer": "ipython3",
   "version": "3.10.12"
  }
 },
 "nbformat": 4,
 "nbformat_minor": 2
}
